{
 "cells": [
  {
   "cell_type": "code",
   "execution_count": 2,
   "metadata": {},
   "outputs": [],
   "source": [
    "from gpseer.app import GPSeer\n",
    "\n",
    "seer = GPSeer(\n",
    "    infile='example-train.csv',\n",
    "    wildtype='EEDPT',\n",
    "    threshold=1,\n",
    "    spline_order=2,\n",
    ")\n",
    "\n",
    "seer.start()"
   ]
  }
 ],
 "metadata": {
  "kernelspec": {
   "display_name": "gpseer (Python 3.7)",
   "language": "python",
   "name": "gpseer"
  },
  "language_info": {
   "codemirror_mode": {
    "name": "ipython",
    "version": 3
   },
   "file_extension": ".py",
   "mimetype": "text/x-python",
   "name": "python",
   "nbconvert_exporter": "python",
   "pygments_lexer": "ipython3",
   "version": "3.7.4"
  }
 },
 "nbformat": 4,
 "nbformat_minor": 4
}
