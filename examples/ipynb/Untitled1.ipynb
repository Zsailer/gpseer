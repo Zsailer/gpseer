{
 "cells": [
  {
   "cell_type": "code",
   "execution_count": 1,
   "metadata": {},
   "outputs": [],
   "source": [
    "%matplotlib inline\n",
    "import matplotlib.pyplot as plt\n",
    "import pandas as pd\n",
    "import numpy as np\n",
    "\n",
    "from gpmap.simulate import MountFujiSimulation\n",
    "from gpmap.simulate.mask import mask\n",
    "from epistasis.models import EpistasisLinearRegression\n",
    "\n",
    "from gpseer import GPSeer\n",
    "\n",
    "from dask.distributed import Client"
   ]
  },
  {
   "cell_type": "code",
   "execution_count": 2,
   "metadata": {},
   "outputs": [],
   "source": [
    "client = Client()"
   ]
  },
  {
   "cell_type": "code",
   "execution_count": 42,
   "metadata": {},
   "outputs": [],
   "source": [
    "# Create an instance of the model. Using `from_length` makes this easy.\n",
    "sim = MountFujiSimulation.from_length(3, field_strength=-1)\n",
    "\n",
    "# add roughness, sampling from a range of values.\n",
    "sim.set_roughness(range=(-1,1))\n",
    "sim.set_stdeviations(.2)\n",
    "\n",
    "map_ = sim.map('genotypes', 'phenotypes')\n",
    "\n",
    "f, gpm = mask(sim, 0.5)\n",
    "\n",
    "# Fit with epistasis model\n",
    "model = EpistasisLinearRegression(order=1, model_type='local')\n",
    "\n",
    "# Initialize a seer.\n",
    "bins = np.arange(-1,10, .1)\n",
    "seer = GPSeer(gpm, model, client=client, bins=bins, genotypes='complete', single_reference=True, db_path='database')\n",
    "\n",
    "# Sample posterior.\n",
    "seer.run_pipeline()"
   ]
  },
  {
   "cell_type": "code",
   "execution_count": 43,
   "metadata": {},
   "outputs": [],
   "source": [
    "seer.sample_pipeline(n_samples=1000)"
   ]
  },
  {
   "cell_type": "code",
   "execution_count": 44,
   "metadata": {},
   "outputs": [],
   "source": [
    "r = seer.results"
   ]
  },
  {
   "cell_type": "code",
   "execution_count": 52,
   "metadata": {},
   "outputs": [
    {
     "name": "stdout",
     "output_type": "stream",
     "text": [
      "SKI\n",
      "2.76299015195\n"
     ]
    },
    {
     "data": {
      "text/plain": [
       "[<matplotlib.lines.Line2D at 0x113274a58>]"
      ]
     },
     "execution_count": 52,
     "metadata": {},
     "output_type": "execute_result"
    },
    {
     "data": {
      "image/png": "[encoded data removed]",
      "text/plain": [
       "<matplotlib.figure.Figure at 0x112fd2278>"
      ]
     },
     "metadata": {},
     "output_type": "display_data"
    }
   ],
   "source": [
    "i = -3\n",
    "x = r.index[1:]\n",
    "y = r.iloc[:,i][1:]\n",
    "g = r.columns[i]\n",
    "print(g)\n",
    "print(map_[g])\n",
    "\n",
    "plt.plot(x,y)"
   ]
  },
  {
   "cell_type": "code",
   "execution_count": null,
   "metadata": {},
   "outputs": [],
   "source": []
  }
 ],
 "metadata": {
  "kernelspec": {
   "display_name": "Python 3 (gpseer)",
   "language": "python",
   "name": "gpseer"
  },
  "language_info": {
   "codemirror_mode": {
    "name": "ipython",
    "version": 3
   },
   "file_extension": ".py",
   "mimetype": "text/x-python",
   "name": "python",
   "nbconvert_exporter": "python",
   "pygments_lexer": "ipython3",
   "version": "3.6.2"
  }
 },
 "nbformat": 4,
 "nbformat_minor": 2
}
