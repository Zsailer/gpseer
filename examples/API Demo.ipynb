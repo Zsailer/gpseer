{
 "cells": [
  {
   "cell_type": "markdown",
   "metadata": {},
   "source": [
    "## Example code demonstrating use gpseer as an API"
   ]
  },
  {
   "cell_type": "code",
   "execution_count": null,
   "metadata": {},
   "outputs": [],
   "source": [
    "# Set up the environment\n",
    "%matplotlib inline\n",
    "from gpseer import utils, maximum_likelihood, cross_validate, plot"
   ]
  },
  {
   "cell_type": "code",
   "execution_count": null,
   "metadata": {},
   "outputs": [],
   "source": [
    "# Model parameters\n",
    "threshold = 5\n",
    "spline_order = 2\n",
    "spline_smoothness = 100000 \n",
    "epistasis_order = 1"
   ]
  },
  {
   "cell_type": "code",
   "execution_count": null,
   "metadata": {
    "scrolled": true
   },
   "outputs": [],
   "source": [
    "# Load data into a genotype-phenotype map\n",
    "gpm = utils.read_file_to_gpmap(\"pfcrt-raw-data.csv\")\n",
    "gpm"
   ]
  },
  {
   "cell_type": "code",
   "execution_count": null,
   "metadata": {},
   "outputs": [],
   "source": [
    "# Construct \n",
    "ml_model = utils.construct_model(threshold=threshold,\n",
    "                                 spline_order=spline_order,\n",
    "                                 spline_smoothness=spline_smoothness,\n",
    "                                 epistasis_order=epistasis_order)\n",
    "# Add genotype p\n",
    "ml_model.add_gpm(gpm)\n",
    "ml_model.fit()"
   ]
  },
  {
   "cell_type": "code",
   "execution_count": null,
   "metadata": {
    "scrolled": false
   },
   "outputs": [],
   "source": [
    "# Make prediction\n",
    "prediction_df = maximum_likelihood.predict_to_dataframe(ml_model)\n",
    "prediction_df"
   ]
  },
  {
   "cell_type": "code",
   "execution_count": null,
   "metadata": {},
   "outputs": [],
   "source": [
    "# Create output summarizing various fit statistics\n",
    "stats_df, convergence_df = maximum_likelihood.create_stats_output(ml_model)"
   ]
  },
  {
   "cell_type": "code",
   "execution_count": null,
   "metadata": {},
   "outputs": [],
   "source": [
    "stats_df"
   ]
  },
  {
   "cell_type": "code",
   "execution_count": null,
   "metadata": {},
   "outputs": [],
   "source": [
    "convergence_df"
   ]
  },
  {
   "cell_type": "code",
   "execution_count": null,
   "metadata": {},
   "outputs": [],
   "source": [
    "fig, ax = plot.plot_spline(ml_model,prediction_df)\n",
    "None"
   ]
  },
  {
   "cell_type": "code",
   "execution_count": null,
   "metadata": {},
   "outputs": [],
   "source": [
    "fig, ax = plot.plot_correlation(ml_model,prediction_df)\n",
    "None"
   ]
  },
  {
   "cell_type": "code",
   "execution_count": null,
   "metadata": {},
   "outputs": [],
   "source": [
    "fig, ax = plot.plot_histograms(ml_model,prediction_df)\n",
    "None"
   ]
  },
  {
   "cell_type": "code",
   "execution_count": null,
   "metadata": {
    "scrolled": true
   },
   "outputs": [],
   "source": [
    "cv_model = utils.construct_model(threshold=threshold,\n",
    "                                 spline_order=spline_order,\n",
    "                                 spline_smoothness=spline_smoothness,\n",
    "                                 epistasis_order=epistasis_order)\n",
    "\n",
    "cv_df = cross_validate.cross_validate_to_dataframe(cv_model,gpm,n_samples=100,train_fraction=0.8)\n",
    "cv_df"
   ]
  },
  {
   "cell_type": "code",
   "execution_count": null,
   "metadata": {},
   "outputs": [],
   "source": [
    "fig, ax = plot.plot_test_train(cv_df)\n",
    "None"
   ]
  },
  {
   "cell_type": "code",
   "execution_count": null,
   "metadata": {},
   "outputs": [],
   "source": []
  }
 ],
 "metadata": {
  "kernelspec": {
   "display_name": "Python 3",
   "language": "python",
   "name": "python3"
  },
  "language_info": {
   "codemirror_mode": {
    "name": "ipython",
    "version": 3
   },
   "file_extension": ".py",
   "mimetype": "text/x-python",
   "name": "python",
   "nbconvert_exporter": "python",
   "pygments_lexer": "ipython3",
   "version": "3.7.3"
  }
 },
 "nbformat": 4,
 "nbformat_minor": 4
}
