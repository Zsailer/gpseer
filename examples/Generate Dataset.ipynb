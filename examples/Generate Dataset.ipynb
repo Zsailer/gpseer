{
 "cells": [
  {
   "cell_type": "markdown",
   "metadata": {},
   "source": [
    "# Notebook that generates example data"
   ]
  },
  {
   "cell_type": "markdown",
   "metadata": {},
   "source": [
    "## Generate Data"
   ]
  },
  {
   "cell_type": "code",
   "execution_count": 4,
   "metadata": {
    "scrolled": true
   },
   "outputs": [],
   "source": [
    "%matplotlib inline\n",
    "from matplotlib import pyplot as plt\n",
    "import numpy as np\n",
    "from gpmap.simulate import MountFujiSimulation\n",
    "from epistasis.stats import split_gpm\n",
    "import pandas as pd"
   ]
  },
  {
   "cell_type": "markdown",
   "metadata": {},
   "source": [
    "### Generate a Rough Mt Fujii Map with a cutoff below which values end up being 0"
   ]
  },
  {
   "cell_type": "code",
   "execution_count": 5,
   "metadata": {},
   "outputs": [
    {
     "data": {
      "image/png": "[encoded data removed]",
      "text/plain": [
       "<Figure size 432x288 with 1 Axes>"
      ]
     },
     "metadata": {
      "needs_background": "light"
     },
     "output_type": "display_data"
    }
   ],
   "source": [
    "K = 1\n",
    "n = 0.9\n",
    "cutoff = 5\n",
    "\n",
    "gpm = MountFujiSimulation.from_length(8, roughness_width=0.5, field_strength=3)\n",
    "\n",
    "norm = (gpm.phenotypes - np.min(gpm.phenotypes))/(np.max(gpm.phenotypes) - np.min(gpm.phenotypes))\n",
    "\n",
    "\n",
    "transformed = np.max(gpm.phenotypes)*(norm*K)**n/(1 + (norm*K)**n)\n",
    "transformed[transformed < cutoff] = cutoff\n",
    "\n",
    "gpm._phenotypes = transformed\n",
    "\n",
    "plt.plot(gpm.phenotypes,transformed,'o')\n",
    "plt.show()\n",
    "\n"
   ]
  },
  {
   "cell_type": "markdown",
   "metadata": {},
   "source": [
    "### Write output"
   ]
  },
  {
   "cell_type": "code",
   "execution_count": 6,
   "metadata": {},
   "outputs": [],
   "source": [
    "\n",
    "def write_pretty_csv(gpm,csv_name):\n",
    "    \"\"\"\n",
    "    Write a csv without all the typical pandas or gpmap\n",
    "    gobblygook. \"\"\"\n",
    "    \n",
    "    df = pd.DataFrame({\"genotypes\":gpm.data[\"genotypes\"],\n",
    "                       \"phenotypes\":gpm.data[\"phenotypes\"]})\n",
    "    df.to_csv(csv_name,index=False)\n",
    "\n",
    "\n",
    "# Split dataset\n",
    "train, test = split_gpm(gpm, fraction=0.5)\n",
    "\n",
    "# write csv files\n",
    "write_pretty_csv(gpm,'example-full.csv')\n",
    "write_pretty_csv(train,'example-train.csv')\n",
    "write_pretty_csv(test,'example-test.csv')"
   ]
  },
  {
   "cell_type": "code",
   "execution_count": null,
   "metadata": {},
   "outputs": [],
   "source": []
  },
  {
   "cell_type": "code",
   "execution_count": null,
   "metadata": {},
   "outputs": [],
   "source": []
  }
 ],
 "metadata": {
  "kernelspec": {
   "display_name": "Python 3",
   "language": "python",
   "name": "python3"
  },
  "language_info": {
   "codemirror_mode": {
    "name": "ipython",
    "version": 3
   },
   "file_extension": ".py",
   "mimetype": "text/x-python",
   "name": "python",
   "nbconvert_exporter": "python",
   "pygments_lexer": "ipython3",
   "version": "3.7.3"
  }
 },
 "nbformat": 4,
 "nbformat_minor": 4
}
