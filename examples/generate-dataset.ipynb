{
 "cells": [
  {
   "cell_type": "markdown",
   "metadata": {},
   "source": [
    "# Notebook that generates example data."
   ]
  },
  {
   "cell_type": "markdown",
   "metadata": {},
   "source": [
    "## Generate Data"
   ]
  },
  {
   "cell_type": "code",
   "execution_count": 37,
   "metadata": {},
   "outputs": [],
   "source": [
    "from gpmap.simulate import MountFujiSimulation\n",
    "from epistasis.stats import split_gpm\n",
    "\n",
    "# Generate a dataset.\n",
    "gpm = MountFujiSimulation.from_length(5, roughness_width=0.5)\n",
    "gpm.to_csv('example-full.csv')\n",
    "\n",
    "\n",
    "# Split dataset\n",
    "train, test = split_gpm(gpm, fraction=0.5)\n",
    "train.to_csv('example-train.csv')\n",
    "test.to_csv('example-test.csv')"
   ]
  },
  {
   "cell_type": "markdown",
   "metadata": {},
   "source": [
    "## Visualize+fit the data."
   ]
  },
  {
   "cell_type": "code",
   "execution_count": 24,
   "metadata": {},
   "outputs": [
    {
     "data": {
      "text/plain": [
       "<matplotlib.axes._subplots.AxesSubplot at 0x12288e350>"
      ]
     },
     "execution_count": 24,
     "metadata": {},
     "output_type": "execute_result"
    },
    {
     "data": {
      "image/png": "[encoded data removed]",
      "text/plain": [
       "<Figure size 432x288 with 1 Axes>"
      ]
     },
     "metadata": {
      "needs_background": "light"
     },
     "output_type": "display_data"
    }
   ],
   "source": [
    "import matplotlib.pyplot as plt\n",
    "from epistasis.pyplot.nonlinear import plot_scale\n",
    "from epistasis.models import EpistasisPipeline, EpistasisSpline, EpistasisLinearRegression\n",
    "\n",
    "# Fit a model.\n",
    "m = EpistasisPipeline([\n",
    "    EpistasisSpline(k=3),\n",
    "    EpistasisLinearRegression(order=2)\n",
    "])\n",
    "m.add_gpm(gpm)\n",
    "m.fit()\n",
    "m.score()\n",
    "\n",
    "plot_scale(m[0])"
   ]
  },
  {
   "cell_type": "code",
   "execution_count": null,
   "metadata": {},
   "outputs": [],
   "source": [
    "- input phenotypes\n",
    "- output phenotypes (measured + predicted)\n",
    "- uncertainty\n",
    "- threshold\n",
    "- "
   ]
  },
  {
   "cell_type": "code",
   "execution_count": 39,
   "metadata": {},
   "outputs": [],
   "source": [
    "if None:\n",
    "    print(\"hello\")"
   ]
  },
  {
   "cell_type": "code",
   "execution_count": null,
   "metadata": {},
   "outputs": [],
   "source": []
  }
 ],
 "metadata": {
  "kernelspec": {
   "display_name": "gpseer (Python 3.7)",
   "language": "python",
   "name": "gpseer"
  },
  "language_info": {
   "codemirror_mode": {
    "name": "ipython",
    "version": 3
   },
   "file_extension": ".py",
   "mimetype": "text/x-python",
   "name": "python",
   "nbconvert_exporter": "python",
   "pygments_lexer": "ipython3",
   "version": "3.7.4"
  }
 },
 "nbformat": 4,
 "nbformat_minor": 4
}
